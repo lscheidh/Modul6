{
  "metadata": {
    "kernelspec": {
      "name": "python",
      "display_name": "Python (Pyodide)",
      "language": "python"
    },
    "language_info": {
      "codemirror_mode": {
        "name": "python",
        "version": 3
      },
      "file_extension": ".py",
      "mimetype": "text/x-python",
      "name": "python",
      "nbconvert_exporter": "python",
      "pygments_lexer": "ipython3",
      "version": "3.8"
    }
  },
  "nbformat_minor": 4,
  "nbformat": 4,
  "cells": [
    {
      "cell_type": "markdown",
      "source": "Erstellen Sie eine Markdown-Zelle mit dem Titel Data Science Tools and Ecosystem im H1-Stil.",
      "metadata": {}
    },
    {
      "cell_type": "markdown",
      "source": "# Data Science Tools and Ecosystem",
      "metadata": {}
    },
    {
      "cell_type": "markdown",
      "source": "Schreiben Sie einen einführenden Satz über das Notebook, wie zum Beispiel: In diesem Notebook werden die Werkzeuge und Ökosysteme der Datenwissenschaft zusammengefasst.",
      "metadata": {}
    },
    {
      "cell_type": "markdown",
      "source": "### In diesem Notebook werden die Werkzeuge und Ökosysteme der Datenwissenschaft zusammengefasst.",
      "metadata": {}
    },
    {
      "cell_type": "markdown",
      "source": "__Ziele:__\n- Phyton\n- R\n- Java",
      "metadata": {}
    },
    {
      "cell_type": "markdown",
      "source": "Beginnen Sie die Zelle mit einer Übersichtslinie wie:\nEinige der beliebten Sprachen, die Datenwissenschaftler verwenden, sind:\nErstellen Sie dann eine nummerierte Liste, die 3 (oder mehr) häufig verwendete Sprachen für Datenwissenschaft auflistet.",
      "metadata": {}
    },
    {
      "cell_type": "markdown",
      "source": "### Einige der beliebten Sprachen, die Datenwissenschaftler verwenden, sind:\n1. Phyton\n2. R\n3. Java",
      "metadata": {}
    },
    {
      "cell_type": "markdown",
      "source": "Fügen Sie der Zelle eine Übersichtslinie hinzu, wie:\nEinige der häufig verwendeten Bibliotheken, die von Datenwissenschaftlern verwendet werden, sind:\nUnter dieser Linie fügen Sie eine nummerierte Liste hinzu, die 3 (oder mehr) häufig verwendete Bibliotheken in der Datenwissenschaft auflistet.",
      "metadata": {}
    },
    {
      "cell_type": "markdown",
      "source": "#### Einige der häufig verwendeten Bibliotheken, die von Datenwissenschaftlern verwendet werden, sind:\n1. Pandas\n2. NumPy\n3. Matplotlib\n4. Seaborn",
      "metadata": {}
    },
    {
      "cell_type": "markdown",
      "source": "Erstellen Sie in dieser Zelle eine Tabelle mit einer Spalte, wobei die erste Zeile die Überschrift Data Science Tools enthält. Die folgenden drei Zeilen in der Tabelle sollten drei Open-Source-Entwicklungsumgebungen angeben, die in der Datenwissenschaft verwendet werden.",
      "metadata": {}
    },
    {
      "cell_type": "markdown",
      "source": "|Data Science Tools|\n|-------|\n|Jupyter|\n|RStudio|\n|Apache Spark|",
      "metadata": {}
    },
    {
      "cell_type": "markdown",
      "source": "Fügen Sie in dieser Zelle eine Zeile mit H3-Überschrift hinzu, mit einem Text wie: Unten sind einige Beispiele zur Auswertung arithmetischer Ausdrücke in Python.",
      "metadata": {}
    },
    {
      "cell_type": "markdown",
      "source": "### Unten sind einige Beispiele zur Auswertung arithmetischer Ausdrücke in Python.",
      "metadata": {}
    },
    {
      "cell_type": "markdown",
      "source": "Bewerten Sie in dieser Code-Zelle den Ausdruck (3*4)+5.\nFügen Sie eine Kommentarzeile vor dem Ausdruck hinzu, um die Operation zu erklären, z.B. Dies ist ein einfacher arithmetischer Ausdruck, um Ganzzahlen zu multiplizieren und dann zu addieren.\nFühren Sie die Zelle aus, um sicherzustellen, dass der Ausdruck das erwartete Ergebnis von 17 zurückgibt.",
      "metadata": {}
    },
    {
      "cell_type": "code",
      "source": "#Dies ist ein einfacher arithmetischer Ausdruck, um Ganzzahlen zu multiplizieren und dann zu addieren.\n(3*4)+5",
      "metadata": {
        "trusted": true
      },
      "outputs": [
        {
          "execution_count": 2,
          "output_type": "execute_result",
          "data": {
            "text/plain": "17"
          },
          "metadata": {}
        }
      ],
      "execution_count": 2
    },
    {
      "cell_type": "markdown",
      "source": "Schreiben Sie in dieser Code-Zelle einen Ausdruck, der 200 Minuten in Stunden umwandelt.\nFügen Sie eine Kommentarzeile vor dem Ausdruck hinzu, um die Operation zu erklären, z.B. Dies wandelt 200 Minuten in Stunden um, indem durch 60 geteilt wird.\nFühren Sie die Zelle aus, um den Ausdruck zu bewerten.",
      "metadata": {}
    },
    {
      "cell_type": "code",
      "source": "#Dies wandelt 200 Minuten in Stunden um, indem durch 60 geteilt wird.\n200/60",
      "metadata": {
        "trusted": true
      },
      "outputs": [
        {
          "execution_count": 3,
          "output_type": "execute_result",
          "data": {
            "text/plain": "3.3333333333333335"
          },
          "metadata": {}
        }
      ],
      "execution_count": 3
    },
    {
      "cell_type": "markdown",
      "source": "Fügen Sie unter der Einführung, die in Übung 3 erstellt wurde, eine neue Markdown-Zelle ein, um die Ziele aufzulisten, die dieses Notebook abgedeckt hat (d.h. einige der wichtigsten Erkenntnisse aus dem Kurs). Beginnen Sie in dieser neuen Zelle mit einer einführenden Zeile mit dem Titel: Ziele: in fetter Schrift. Verwenden Sie dann eine ungeordnete Liste (Stichpunkte), um 3 bis 5 Punkte anzugeben, die in diesem Notebook behandelt wurden, wie Beliebte Sprachen für Datenwissenschaft auflisten.",
      "metadata": {}
    },
    {
      "cell_type": "markdown",
      "source": "Fügen Sie in dieser Markdown-Zelle den folgenden Text Autor in H2-Überschrift ein. Fügen Sie Ihren Namen als normalen Text unter dem Wort Autor hinzu.",
      "metadata": {}
    },
    {
      "cell_type": "markdown",
      "source": "## Autor\nLukas Scheidhauer ",
      "metadata": {}
    },
    {
      "cell_type": "code",
      "source": "",
      "metadata": {
        "trusted": true
      },
      "outputs": [],
      "execution_count": null
    }
  ]
}