{
 "cells": [
  {
   "cell_type": "markdown",
   "metadata": {},
   "source": [
    "<center>\n",
    "    <img src=\"https://cf-courses-data.s3.us.cloud-object-storage.appdomain.cloud/IBMDeveloperSkillsNetwork-DS0105EN-SkillsNetwork/labs/Module2/images/SN_web_lightmode.png\" width=\"300\" alt=\"cognitiveclass.ai logo\">\n",
    "</center>\n"
   ]
  },
  {
   "cell_type": "markdown",
   "metadata": {},
   "source": [
    "# Hands-on Lab: Create your Jupyter Notebook\n"
   ]
  },
  {
   "cell_type": "markdown",
   "metadata": {},
   "source": [
    "#### Add your code below following the instructions given in the course\n"
   ]
  },
  {
   "cell_type": "markdown",
   "metadata": {},
   "source": [
    "Übung 2 - Erstellen Sie eine Markdown-Zelle mit dem Titel des Notizbuchs."
   ]
  },
  {
   "cell_type": "markdown",
   "metadata": {},
   "source": [
    "# Data Science Tools and Ecosystem"
   ]
  },
  {
   "cell_type": "markdown",
   "metadata": {},
   "source": [
    "Übung 3 - Erstellen Sie eine Markdown-Zelle für eine Einleitung."
   ]
  },
  {
   "cell_type": "markdown",
   "metadata": {},
   "source": [
    "## In diesem Notebook werden die Werkzeuge und Ökosysteme der Datenwissenschaft zusammengefasst."
   ]
  },
  {
   "cell_type": "markdown",
   "metadata": {},
   "source": [
    "Übung 4 - Erstellen Sie eine Markdown-Zelle für die Auflistung der Data Science-Sprachen."
   ]
  },
  {
   "cell_type": "markdown",
   "metadata": {},
   "source": [
    "### Einige der beliebten Sprachen, die Datenwissenschaftler verwenden, sind:\n",
    "1. Phyton\n",
    "2. R\n",
    "3. Java"
   ]
  },
  {
   "cell_type": "markdown",
   "metadata": {},
   "source": [
    "Übung 5 - Erstellen Sie eine Markdown-Zelle, um Data Science-Bibliotheken aufzulisten."
   ]
  },
  {
   "cell_type": "markdown",
   "metadata": {},
   "source": [
    "#### Einige der häufig verwendeten Bibliotheken, die von Datenwissenschaftlern verwendet werden, sind:\n",
    "1. Pandas\n",
    "2. NumPy\n",
    "3. Matplotlib\n",
    "4. Seaborn"
   ]
  },
  {
   "cell_type": "markdown",
   "metadata": {},
   "source": [
    "Übung 6 - Erstellen Sie eine Markdown-Zelle mit einer Tabelle von Data Science-Tools."
   ]
  },
  {
   "cell_type": "markdown",
   "metadata": {},
   "source": [
    "|Data Science Tools|\n",
    "|-------|\n",
    "|Jupyter|\n",
    "|RStudio|\n",
    "|Apache Spark|"
   ]
  },
  {
   "cell_type": "markdown",
   "metadata": {},
   "source": [
    "Übung 7 - Erstellen Sie eine Markdown-Zelle mit Beispielen für arithmetische Ausdrücke. "
   ]
  },
  {
   "cell_type": "markdown",
   "metadata": {},
   "source": [
    "### Einige Beispiele zur Auswertung arithmetischer Ausdrücke in Python: + - / *"
   ]
  },
  {
   "cell_type": "markdown",
   "metadata": {},
   "source": [
    "Übung 8 - Erstellen Sie eine Codezelle zum Multiplizieren und Addieren von Zahlen."
   ]
  },
  {
   "cell_type": "code",
   "execution_count": 4,
   "metadata": {},
   "outputs": [
    {
     "data": {
      "text/plain": [
       "25"
      ]
     },
     "execution_count": 4,
     "metadata": {},
     "output_type": "execute_result"
    }
   ],
   "source": [
    "(3*5)+10"
   ]
  },
  {
   "cell_type": "markdown",
   "metadata": {},
   "source": [
    "Übung 9 - Erstellen Sie eine Codezelle zur Umrechnung von Minuten in Stunden."
   ]
  },
  {
   "cell_type": "code",
   "execution_count": 5,
   "metadata": {},
   "outputs": [
    {
     "data": {
      "text/plain": [
       "3.3333333333333335"
      ]
     },
     "execution_count": 5,
     "metadata": {},
     "output_type": "execute_result"
    }
   ],
   "source": [
    "#Dies wandelt 200 Minuten in Stunden um, indem durch 60 geteilt wird.\n",
    "200/60"
   ]
  },
  {
   "cell_type": "markdown",
   "metadata": {},
   "source": [
    "Übung 10 - Fügen Sie eine Markdown-Zelle ein, um Ziele aufzulisten."
   ]
  },
  {
   "attachments": {},
   "cell_type": "markdown",
   "metadata": {},
   "source": [
    "__Ziele:__\n",
    "- Arten und Kategorien von Tools kennenlernen\n",
    "- Kriterien bestimmen, welche Sprachen man lernen sollte\n",
    "- Bibliotheken, APIs, Datensätze und Modelle kennenlernen\n",
    "- arbeiten mit verschiedenen Kernels\n",
    "- RStudio kennenlernen"
   ]
  },
  {
   "cell_type": "markdown",
   "metadata": {},
   "source": [
    "Übung 11 - Erstellen Sie eine Markdown-Zelle, um den Namen des Autors anzugeben."
   ]
  },
  {
   "cell_type": "code",
   "execution_count": null,
   "metadata": {},
   "outputs": [],
   "source": []
  }
 ],
 "metadata": {
  "kernelspec": {
   "display_name": "Python",
   "language": "python",
   "name": "conda-env-python-py"
  },
  "language_info": {
   "codemirror_mode": {
    "name": "ipython",
    "version": 3
   },
   "file_extension": ".py",
   "mimetype": "text/x-python",
   "name": "python",
   "nbconvert_exporter": "python",
   "pygments_lexer": "ipython3",
   "version": "3.7.12"
  },
  "prev_pub_hash": "9e1985db9844176462bd1d5863048c9f3d17404bbc6a648be9084b0c42b29347"
 },
 "nbformat": 4,
 "nbformat_minor": 4
}
